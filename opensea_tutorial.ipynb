{
 "cells": [
  {
   "cell_type": "code",
   "execution_count": 1,
   "metadata": {},
   "outputs": [
    {
     "name": "stdout",
     "output_type": "stream",
     "text": [
      "2025-04-14 00:57:26 - opensea_client - INFO - === New logging session started with log file: opensea_client_20250414_005726.log ===\n"
     ]
    }
   ],
   "source": [
    "from opensea_client import OpenSeaClient\n",
    "from models import CollectionsParams, EventsParams\n",
    "from datetime import datetime\n",
    "import json\n",
    "import asyncio\n",
    "import nest_asyncio\n",
    "nest_asyncio.apply()\n",
    "\n",
    "OUTPUT_DIR = 'data/'"
   ]
  },
  {
   "cell_type": "code",
   "execution_count": 2,
   "metadata": {},
   "outputs": [],
   "source": [
    "async def main():\n",
    "    try:\n",
    "        client = OpenSeaClient()\n",
    "        \n",
    "        # Example 1: Fetch collections\n",
    "        collections_params = CollectionsParams(\n",
    "            chain=\"ethereum\",\n",
    "            limit=50,\n",
    "            include_hidden=False,\n",
    "            max_pages=2\n",
    "        )\n",
    "        \n",
    "        collections = await client.get_all_collections(collections_params)\n",
    "        \n",
    "        with open(OUTPUT_DIR + 'opensea_collections.json', 'w', encoding='utf-8') as f:\n",
    "            json.dump(collections, f, ensure_ascii=False, indent=2)\n",
    "            \n",
    "        print(\"Collections data saved to opensea_collections.json\")\n",
    "        \n",
    "        # Example 2: Fetch events for a collection\n",
    "        start_date = datetime(2023, 1, 1)\n",
    "        end_date = datetime(2023, 2, 1)\n",
    "        collection_slug = \"doodles-official\"\n",
    "        \n",
    "        events_params = EventsParams(\n",
    "            collection_slug=collection_slug,\n",
    "            event_type=[\"sale\"],\n",
    "            after=start_date,\n",
    "            before=end_date,\n",
    "            limit=50,\n",
    "            max_pages=2\n",
    "        )\n",
    "        \n",
    "        events = await client.get_all_collection_events(events_params)\n",
    "      \n",
    "        \n",
    "        filename = f\"{OUTPUT_DIR}{collection_slug}_events.json\"\n",
    "        with open(filename, 'w', encoding='utf-8') as f:\n",
    "            json.dump(events, f, ensure_ascii=False, indent=2)\n",
    "            \n",
    "        print(f\"Events data saved to {filename}\")\n",
    "        \n",
    "    except Exception as e:\n",
    "        print(f\"Error: {e}\")\n"
   ]
  },
  {
   "cell_type": "code",
   "execution_count": 3,
   "metadata": {},
   "outputs": [
    {
     "name": "stdout",
     "output_type": "stream",
     "text": [
      "2025-04-14 00:57:33 - opensea_client - INFO - Starting pagination to fetch all collections (max 2 pages)\n",
      "2025-04-14 00:57:33 - opensea_client - INFO - Fetching collections with params: {'chain': 'ethereum', 'limit': 50, 'include_hidden': 'false'}\n",
      "2025-04-14 00:57:35 - opensea_client - INFO - Fetching collections with params: {'chain': 'ethereum', 'limit': 50, 'include_hidden': 'false', 'next': 'LXBrPTM0NzUxMTAz'}\n",
      "2025-04-14 00:57:37 - opensea_client - INFO - Fetched a total of 100 collections from 2 pages\n",
      "Collections data saved to opensea_collections.json\n",
      "2025-04-14 00:57:37 - opensea_client - INFO - Starting pagination to fetch all events for collection 'doodles-official' (max 2 pages)\n",
      "2025-04-14 00:57:37 - opensea_client - INFO - Fetching events for collection 'doodles-official' with params: {'event_type': ['sale'], 'limit': 50, 'after': 1672502400, 'before': 1675180800}\n",
      "2025-04-14 00:57:38 - opensea_client - INFO - Fetching events for collection 'doodles-official' with params: {'event_type': ['sale'], 'limit': 50, 'after': 1672502400, 'before': 1675180800, 'next': 'LWV2ZW50X3RpbWVzdGFtcD0yMDIzLTAxLTMxKzEyJTNBNDklM0ExMSYtZXZlbnRfdHlwZT1zdWNjZXNzZnVsJi1waz05NjYyMzQ4Nzc3'}\n",
      "2025-04-14 00:57:40 - opensea_client - INFO - Fetched a total of 100 events from 2 pages\n",
      "Events data saved to data/doodles-official_events.json\n"
     ]
    }
   ],
   "source": [
    "asyncio.run(main()) "
   ]
  },
  {
   "cell_type": "code",
   "execution_count": null,
   "metadata": {},
   "outputs": [],
   "source": []
  }
 ],
 "metadata": {
  "kernelspec": {
   "display_name": "base",
   "language": "python",
   "name": "python3"
  },
  "language_info": {
   "codemirror_mode": {
    "name": "ipython",
    "version": 3
   },
   "file_extension": ".py",
   "mimetype": "text/x-python",
   "name": "python",
   "nbconvert_exporter": "python",
   "pygments_lexer": "ipython3",
   "version": "3.12.4"
  }
 },
 "nbformat": 4,
 "nbformat_minor": 2
}
